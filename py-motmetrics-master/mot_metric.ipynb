{
 "cells": [
  {
   "attachments": {},
   "cell_type": "markdown",
   "metadata": {},
   "source": [
    "## Py-metrics"
   ]
  },
  {
   "cell_type": "code",
   "execution_count": 2,
   "metadata": {},
   "outputs": [],
   "source": [
    "import motmetrics as mm\n",
    "import numpy as np"
   ]
  },
  {
   "cell_type": "code",
   "execution_count": 3,
   "metadata": {},
   "outputs": [
    {
     "data": {
      "text/plain": [
       "0"
      ]
     },
     "execution_count": 3,
     "metadata": {},
     "output_type": "execute_result"
    }
   ],
   "source": [
    "# Create an accumulator that will be updated during each frame\n",
    "acc = mm.MOTAccumulator(auto_id=True)\n",
    "\n",
    "# Call update once for per frame. For now, assume distances between\n",
    "# frame objects / hypotheses are given.\n",
    "acc.update(\n",
    "    [1, 2],                     # Ground truth objects in this frame\n",
    "    [1, 2, 3],                  # Detector hypotheses in this frame\n",
    "    [\n",
    "        [0.1, np.nan, 0.3],     # Distances from object 1 to hypotheses 1, 2, 3\n",
    "        [0.5,  0.2,   0.3]      # Distances from object 2 to hypotheses 1, 2, 3\n",
    "    ]\n",
    ")"
   ]
  },
  {
   "cell_type": "code",
   "execution_count": 4,
   "metadata": {},
   "outputs": [
    {
     "name": "stdout",
     "output_type": "stream",
     "text": [
      "                Type  OId  HId    D\n",
      "FrameId Event                      \n",
      "0       0        RAW  NaN  NaN  NaN\n",
      "        1        RAW  1.0  1.0  0.1\n",
      "        2        RAW  1.0  3.0  0.3\n",
      "        3        RAW  2.0  1.0  0.5\n",
      "        4        RAW  2.0  2.0  0.2\n",
      "        5        RAW  2.0  3.0  0.3\n",
      "        6      MATCH  1.0  1.0  0.1\n",
      "        7      MATCH  2.0  2.0  0.2\n",
      "        8         FP  NaN  3.0  NaN\n"
     ]
    }
   ],
   "source": [
    "print(acc.events)"
   ]
  },
  {
   "cell_type": "code",
   "execution_count": 5,
   "metadata": {},
   "outputs": [
    {
     "name": "stdout",
     "output_type": "stream",
     "text": [
      "                Type  OId  HId    D\n",
      "FrameId Event                      \n",
      "0       6      MATCH  1.0  1.0  0.1\n",
      "        7      MATCH  2.0  2.0  0.2\n",
      "        8         FP  NaN  3.0  NaN\n"
     ]
    }
   ],
   "source": [
    "print(acc.mot_events) # a pandas DataFrame containing MOT only events"
   ]
  },
  {
   "cell_type": "code",
   "execution_count": 6,
   "metadata": {},
   "outputs": [
    {
     "name": "stdout",
     "output_type": "stream",
     "text": [
      "     num_frames  mota  motp\n",
      "acc           1   0.5  0.15\n"
     ]
    }
   ],
   "source": [
    "mh = mm.metrics.create()\n",
    "summary = mh.compute(acc, metrics=['num_frames', 'mota', 'motp'], name='acc')\n",
    "print(summary)\n"
   ]
  },
  {
   "cell_type": "code",
   "execution_count": 7,
   "metadata": {},
   "outputs": [
    {
     "name": "stdout",
     "output_type": "stream",
     "text": [
      "     num_frames   MOTA  MOTP\n",
      "acc           1 50.00%  0.15\n"
     ]
    },
    {
     "data": {
      "text/plain": [
       "'\\n      num_frames   MOTA      MOTP\\nfull           3 50.00%  0.340000\\npart           2 50.00%  0.166667\\n'"
      ]
     },
     "execution_count": 7,
     "metadata": {},
     "output_type": "execute_result"
    }
   ],
   "source": [
    "strsummary = mm.io.render_summary(\n",
    "    summary,\n",
    "    formatters={'mota' : '{:.2%}'.format},\n",
    "    namemap={'mota': 'MOTA', 'motp' : 'MOTP'}\n",
    ")\n",
    "print(strsummary)\n",
    "\n",
    "\"\"\"\n",
    "      num_frames   MOTA      MOTP\n",
    "full           3 50.00%  0.340000\n",
    "part           2 50.00%  0.166667\n",
    "\"\"\""
   ]
  },
  {
   "cell_type": "code",
   "execution_count": 8,
   "metadata": {},
   "outputs": [
    {
     "name": "stdout",
     "output_type": "stream",
     "text": [
      "         IDF1   IDP    IDR   Rcll  Prcn GT MT PT ML FP FN IDs  FM  MOTA  MOTP IDt IDa IDm\n",
      "full    80.0% 66.7% 100.0% 100.0% 66.7%  2  2  0  0  1  0   0   0 50.0% 0.150   0   0   0\n",
      "part    80.0% 66.7% 100.0% 100.0% 66.7%  2  2  0  0  1  0   0   0 50.0% 0.150   0   0   0\n",
      "OVERALL 80.0% 66.7% 100.0% 100.0% 66.7%  4  4  0  0  2  0   0   0 50.0% 0.150   0   0   0\n"
     ]
    }
   ],
   "source": [
    "summary = mh.compute_many(\n",
    "    [acc, acc.events.loc[0:1]],\n",
    "    metrics=mm.metrics.motchallenge_metrics,\n",
    "    names=['full', 'part'],\n",
    "    generate_overall=True\n",
    "    )\n",
    "\n",
    "strsummary = mm.io.render_summary(\n",
    "    summary,\n",
    "    formatters=mh.formatters,\n",
    "    namemap=mm.io.motchallenge_metric_names\n",
    ")\n",
    "print(strsummary)\n",
    "\n"
   ]
  },
  {
   "cell_type": "code",
   "execution_count": 10,
   "metadata": {},
   "outputs": [],
   "source": [
    "#<frame number>, <object id>, <bb_left>, <bb_top>, <bb_width>, <bb_height>, <confidence>, <x>, <y>, <z>"
   ]
  },
  {
   "cell_type": "code",
   "execution_count": 9,
   "metadata": {},
   "outputs": [],
   "source": [
    "def motMetricsEnhancedCalculator(gtSource, tSource):\n",
    "  # import required packages\n",
    "  import motmetrics as mm\n",
    "  import numpy as np\n",
    "  \n",
    "  # load ground truth\n",
    "  gt = np.loadtxt(gtSource, delimiter=',')\n",
    "\n",
    "  # load tracking output\n",
    "  t = np.loadtxt(tSource, delimiter=',')\n",
    "\n",
    "  # Create an accumulator that will be updated during each frame\n",
    "  acc = mm.MOTAccumulator(auto_id=True)\n",
    "\n",
    "  # Max frame number maybe different for gt and t files\n",
    "  for frame in range(int(gt[:,0].max())):\n",
    "    frame += 1 # detection and frame numbers begin at 1\n",
    "\n",
    "    # select id, x, y, width, height for current frame\n",
    "    # required format for distance calculation is X, Y, Width, Height \\\n",
    "    # We already have this format\n",
    "    gt_dets = gt[gt[:,0]==frame,1:6] # select all detections in gt\n",
    "    t_dets = t[t[:,0]==frame,1:6] # select all detections in t\n",
    "\n",
    "    C = mm.distances.iou_matrix(gt_dets[:,1:], t_dets[:,1:], \\\n",
    "                                max_iou=0.5) # format: gt, t\n",
    "\n",
    "    # Call update once for per frame.\n",
    "    # format: gt object ids, t object ids, distance\n",
    "    acc.update(gt_dets[:,0].astype('int').tolist(), \\\n",
    "              t_dets[:,0].astype('int').tolist(), C)\n",
    "\n",
    "  mh = mm.metrics.create()\n",
    "\n",
    "  summary = mh.compute(acc, metrics=['num_frames', 'idf1', 'idp', 'idr', \\\n",
    "                                     'recall', 'precision', 'num_objects', \\\n",
    "                                     'mostly_tracked', 'partially_tracked', \\\n",
    "                                     'mostly_lost', 'num_false_positives', \\\n",
    "                                     'num_misses', 'num_switches', \\\n",
    "                                     'num_fragmentations', 'mota', 'motp' \\\n",
    "                                    ], \\\n",
    "                      name='acc')\n",
    "\n",
    "  strsummary = mm.io.render_summary(\n",
    "      summary,\n",
    "      #formatters={'mota' : '{:.2%}'.format},\n",
    "      namemap={'idf1': 'IDF1', 'idp': 'IDP', 'idr': 'IDR', 'recall': 'Rcll', \\\n",
    "               'precision': 'Prcn', 'num_objects': 'GT', \\\n",
    "               'mostly_tracked' : 'MT', 'partially_tracked': 'PT', \\\n",
    "               'mostly_lost' : 'ML', 'num_false_positives': 'FP', \\\n",
    "               'num_misses': 'FN', 'num_switches' : 'IDsw', \\\n",
    "               'num_fragmentations' : 'FM', 'mota': 'MOTA', 'motp' : 'MOTP',  \\\n",
    "              }\n",
    "  )\n",
    "  print(strsummary)"
   ]
  },
  {
   "cell_type": "code",
   "execution_count": 10,
   "metadata": {},
   "outputs": [
    {
     "name": "stdout",
     "output_type": "stream",
     "text": [
      "     num_frames      IDF1      IDP       IDR      Rcll      Prcn   GT  MT  PT  ML  FP   FN  IDsw  FM      MOTA      MOTP\n",
      "acc          71  0.557659  0.72973  0.451253  0.582173  0.941441  359   1   6   1  13  150     7   7  0.526462  0.277201\n"
     ]
    }
   ],
   "source": [
    "# Calculate the MOT metrics\n",
    "motMetricsEnhancedCalculator('motmetrics/data/TUD-Campus/gt.txt', 'motmetrics/data/TUD-Campus/test.txt')"
   ]
  }
 ],
 "metadata": {
  "kernelspec": {
   "display_name": "Python 3",
   "language": "python",
   "name": "python3"
  },
  "language_info": {
   "codemirror_mode": {
    "name": "ipython",
    "version": 3
   },
   "file_extension": ".py",
   "mimetype": "text/x-python",
   "name": "python",
   "nbconvert_exporter": "python",
   "pygments_lexer": "ipython3",
   "version": "3.10.4"
  },
  "orig_nbformat": 4
 },
 "nbformat": 4,
 "nbformat_minor": 2
}
