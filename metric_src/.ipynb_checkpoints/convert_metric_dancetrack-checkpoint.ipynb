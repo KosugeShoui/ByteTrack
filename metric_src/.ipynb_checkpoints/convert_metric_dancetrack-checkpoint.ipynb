{
 "cells": [
  {
   "cell_type": "markdown",
   "metadata": {},
   "source": [
    "# Convert Tracking Results for MOT Challenge "
   ]
  },
  {
   "cell_type": "markdown",
   "metadata": {},
   "source": [
    "## 0. Library"
   ]
  },
  {
   "cell_type": "code",
   "execution_count": 1,
   "metadata": {},
   "outputs": [],
   "source": [
    "import pandas as pd\n",
    "import numpy as np\n",
    "import cv2\n",
    "import matplotlib.pyplot as plt\n",
    "import os"
   ]
  },
  {
   "cell_type": "markdown",
   "metadata": {},
   "source": [
    "## 1. data load"
   ]
  },
  {
   "cell_type": "code",
   "execution_count": null,
   "metadata": {},
   "outputs": [
    {
     "name": "stdout",
     "output_type": "stream",
     "text": [
      "450\n"
     ]
    }
   ],
   "source": [
    "#予測済みのbbox入手\n",
    "pred_txt_dir = './labels_kosutest'\n",
    "pred_txt = os.listdir(pred_txt_dir)\n",
    "# pred_txt = pred_txt[1:]\n",
    "print(len(pred_txt))\n",
    "imsize = np.array([1920,1080])"
   ]
  },
  {
   "cell_type": "code",
   "execution_count": null,
   "metadata": {},
   "outputs": [],
   "source": [
    "def write_txt(track_data):\n",
    "    with open('motchallenge_kosu.txt', 'a') as file:\n",
    "        file.write(','.join(map(str, track_data)) + '\\n')\n"
   ]
  },
  {
   "cell_type": "code",
   "execution_count": null,
   "metadata": {},
   "outputs": [],
   "source": [
    "for num,frame_txt in enumerate(pred_txt): \n",
    "    data = os.path.join(pred_txt_dir,frame_txt)\n",
    "    df = pd.read_csv(data,sep = ' ',header=None, names=['class', 'center_x', 'center_y', 'width', 'height','id'])\n",
    "    for item in zip(df['center_x'], df['center_y'], df['width'], df['height'],df['id'],df['class']):\n",
    "        #元の値に戻す\n",
    "        center_x = int(item[0]*imsize[0])\n",
    "        center_y = int(item[1]*imsize[1])\n",
    "        width = int(item[2]*imsize[0])\n",
    "        height = int(item[3]*imsize[1])\n",
    "        id = item[4]\n",
    "        frame_num = num + 1\n",
    "        \n",
    "        #gtの形に変更\n",
    "        x1 = center_x - width//2\n",
    "        y1 = center_y - height//2\n",
    "        x2 = center_x + width//2\n",
    "        y2 = center_y + height//2\n",
    "        #mot\n",
    "        track_data = [frame_num,id,x1,y1,width,height,-1,-1,-1,-1]\n",
    "        write_txt(track_data)\n",
    "    \n",
    "    "
   ]
  }
 ],
 "metadata": {
  "kernelspec": {
   "display_name": "Python 3",
   "language": "python",
   "name": "python3"
  },
  "language_info": {
   "codemirror_mode": {
    "name": "ipython",
    "version": 3
   },
   "file_extension": ".py",
   "mimetype": "text/x-python",
   "name": "python",
   "nbconvert_exporter": "python",
   "pygments_lexer": "ipython3",
   "version": "3.10.4"
  }
 },
 "nbformat": 4,
 "nbformat_minor": 2
}
