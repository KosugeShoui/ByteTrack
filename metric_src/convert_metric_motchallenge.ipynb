{
 "cells": [
  {
   "cell_type": "markdown",
   "metadata": {},
   "source": [
    "# Convert Tracking Results for MOT Challenge "
   ]
  },
  {
   "cell_type": "markdown",
   "metadata": {},
   "source": [
    "## 0. Library"
   ]
  },
  {
   "cell_type": "code",
   "execution_count": 5,
   "metadata": {},
   "outputs": [],
   "source": [
    "import pandas as pd\n",
    "import numpy as np\n",
    "import cv2\n",
    "import matplotlib.pyplot as plt\n",
    "import os\n",
    "from natsort import natsorted\n",
    "from tqdm.notebook import tqdm"
   ]
  },
  {
   "cell_type": "markdown",
   "metadata": {},
   "source": [
    "## 1. data load"
   ]
  },
  {
   "cell_type": "code",
   "execution_count": 8,
   "metadata": {},
   "outputs": [
    {
     "name": "stdout",
     "output_type": "stream",
     "text": [
      "exp num =  8\n",
      "['tracking_MOT20-01', 'tracking_MOT20-02', 'tracking_MOT20-03', 'tracking_MOT20-04', 'tracking_MOT20-05', 'tracking_MOT20-06', 'tracking_MOT20-07', 'tracking_MOT20-08']\n"
     ]
    }
   ],
   "source": [
    "#予測済みの結果入手\n",
    "#保存用の実験名\n",
    "save_path = 'mot20_1113'\n",
    "\n",
    "pred_txt_dir = '../ultralytics_normal/runs/tracking_results_1114_yolov8_m'\n",
    "pred_txt_sub = os.listdir(pred_txt_dir)\n",
    "save_dir = '../ultralytics_normal/Results_mot_challenge_format/' + save_path \n",
    "os.makedirs(save_dir,exist_ok = True)\n",
    "\n",
    "#タスク名\n",
    "name = 'MOT20'\n",
    "pred_txt = natsorted([i for i in pred_txt_sub if name in i])\n",
    "print('exp num = ',len(pred_txt))\n",
    "print(pred_txt)\n",
    "#imsize = np.array([1920,1080]"
   ]
  },
  {
   "cell_type": "markdown",
   "metadata": {},
   "source": [
    "## 2. write txt fuction"
   ]
  },
  {
   "cell_type": "code",
   "execution_count": 9,
   "metadata": {},
   "outputs": [],
   "source": [
    "def write_txt(save_path,track_data):\n",
    "    with open(save_path, 'a') as file:\n",
    "        file.write(','.join(map(str, track_data)) + '\\n')\n"
   ]
  },
  {
   "cell_type": "markdown",
   "metadata": {},
   "source": [
    "## 3. exp"
   ]
  },
  {
   "cell_type": "code",
   "execution_count": 11,
   "metadata": {},
   "outputs": [
    {
     "data": {
      "application/vnd.jupyter.widget-view+json": {
       "model_id": "dc73c433b3644afdb1de8ed983d3cfbf",
       "version_major": 2,
       "version_minor": 0
      },
      "text/plain": [
       "  0%|          | 0/8 [00:00<?, ?it/s]"
      ]
     },
     "metadata": {},
     "output_type": "display_data"
    },
    {
     "name": "stdout",
     "output_type": "stream",
     "text": [
      "--------- tracking_MOT20-01  convert start-------------\n",
      "frame size =  (1080, 1920, 3)\n",
      "frame sum =  429\n",
      "--------- tracking_MOT20-02  convert start-------------\n",
      "frame size =  (1080, 1920, 3)\n",
      "frame sum =  2782\n",
      "--------- tracking_MOT20-03  convert start-------------\n",
      "frame size =  (880, 1173, 3)\n",
      "frame sum =  2405\n",
      "--------- tracking_MOT20-04  convert start-------------\n",
      "frame size =  (1080, 1545, 3)\n",
      "frame sum =  2080\n",
      "--------- tracking_MOT20-05  convert start-------------\n",
      "frame size =  (1080, 1654, 3)\n",
      "frame sum =  3315\n",
      "--------- tracking_MOT20-06  convert start-------------\n",
      "frame size =  (734, 1920, 3)\n",
      "frame sum =  1008\n",
      "--------- tracking_MOT20-07  convert start-------------\n",
      "frame size =  (1080, 1920, 3)\n",
      "frame sum =  585\n",
      "--------- tracking_MOT20-08  convert start-------------\n",
      "frame size =  (734, 1920, 3)\n",
      "frame sum =  806\n",
      "finished\n"
     ]
    }
   ],
   "source": [
    "for exp_name in tqdm(pred_txt):\n",
    "    #path\n",
    "    print('---------',exp_name,' convert start-------------')\n",
    "    exp_dir = os.path.join(pred_txt_dir, exp_name + '/labels')\n",
    "    image_dir = os.path.join(pred_txt_dir, exp_name + '/000001.jpg')\n",
    "    image = cv2.imread(image_dir)\n",
    "    imsize = image.shape\n",
    "    print('frame size = ',imsize)\n",
    "    \n",
    "    \n",
    "    \n",
    "    txt_list = os.listdir(exp_dir)\n",
    "    \n",
    "    #txt_list = txt_list[:-1]# リスト内包表記を使用して.ipynbcheckpointを含まないファイルだけを抽出\n",
    "    txt_list = [file for file in txt_list if not file.endswith('.ipynb_checkpoints')]\n",
    "    print('frame sum = ',len(txt_list))\n",
    "    exp_name = exp_name.replace('tracking_','')\n",
    "    #os.makedirs(os.path.join(save_dir,exp_name),exist_ok = True)\n",
    "    #print(exp_name)\n",
    "    #print(len(txt_list))\n",
    "    \n",
    "    for num,frame_txt in enumerate(txt_list): \n",
    "        #print(frame_txt)\n",
    "        data = os.path.join(exp_dir,frame_txt)\n",
    "        df = pd.read_csv(data,sep = ' ',header=None, names=['class', 'center_x', 'center_y', 'width', 'height','conf','id'])\n",
    "\n",
    "        for item in zip(df['center_x'], df['center_y'], df['width'], df['height'],df['id'],df['class']):\n",
    "            #元の値に戻す\n",
    "            #print(item)\n",
    "            center_x = int(item[0]*imsize[1])\n",
    "            center_y = int(item[1]*imsize[0])\n",
    "            width = int(item[2]*imsize[1])\n",
    "            height = int(item[3]*imsize[0])\n",
    "            id = item[4]\n",
    "            frame_num = num + 1\n",
    "\n",
    "            #gtの形に変更\n",
    "            x1 = center_x - width//2\n",
    "            y1 = center_y - height//2\n",
    "            x2 = center_x + width//2\n",
    "            y2 = center_y + height//2\n",
    "            #mot\n",
    "            track_data = [frame_num,id,x1,y1,width,height,-1,-1,-1,-1]\n",
    "\n",
    "            #save_txt\n",
    "            save_path = os.path.join(save_dir+'/'+exp_name)\n",
    "            write_txt(save_path,track_data)\n",
    "\n",
    "print('finished')\n",
    "    "
   ]
  }
 ],
 "metadata": {
  "kernelspec": {
   "display_name": "Python 3 (ipykernel)",
   "language": "python",
   "name": "python3"
  },
  "language_info": {
   "codemirror_mode": {
    "name": "ipython",
    "version": 3
   },
   "file_extension": ".py",
   "mimetype": "text/x-python",
   "name": "python",
   "nbconvert_exporter": "python",
   "pygments_lexer": "ipython3",
   "version": "3.8.10"
  }
 },
 "nbformat": 4,
 "nbformat_minor": 4
}
