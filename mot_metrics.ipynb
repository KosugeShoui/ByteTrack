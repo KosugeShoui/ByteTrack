{
 "cells": [
  {
   "cell_type": "markdown",
   "id": "e6f63971-9549-480f-b314-7852e8b1639b",
   "metadata": {},
   "source": [
    "# Mot Metricによる物体追尾評価"
   ]
  },
  {
   "cell_type": "code",
   "execution_count": 2,
   "id": "a4352929-791e-4150-be84-dc047e82ae05",
   "metadata": {},
   "outputs": [],
   "source": [
    "import metric_src.mot_metrics as motmetrics\n",
    "import os"
   ]
  },
  {
   "cell_type": "code",
   "execution_count": 5,
   "metadata": {},
   "outputs": [
    {
     "data": {
      "application/vnd.jupyter.widget-view+json": {
       "model_id": "3aeba0bd3f9d4867b816429233789fb5",
       "version_major": 2,
       "version_minor": 0
      },
      "text/plain": [
       "  0%|          | 0/1470 [00:00<?, ?it/s]"
      ]
     },
     "metadata": {},
     "output_type": "display_data"
    },
    {
     "name": "stdout",
     "output_type": "stream",
     "text": [
      "     num_frames      IDF1       IDP       IDR      Rcll      Prcn     GT  MT  PT  ML     FP    FN  IDsw    FM      MOTA      MOTP\n",
      "acc        1470  0.340148  0.328001  0.353228  0.760932  0.706587  39357  72  39   6  12436  9409  1224  1944  0.413853  0.296266\n"
     ]
    }
   ],
   "source": [
    "# Calculate the MOT metrics\n",
    "motmetrics.motMetricsEnhancedCalculator('./metric_src/label/gt.txt','./metric_src/label/12.txt')"
   ]
  },
  {
   "cell_type": "code",
   "execution_count": 8,
   "metadata": {},
   "outputs": [
    {
     "data": {
      "application/vnd.jupyter.widget-view+json": {
       "model_id": "6616c0b772324e4984d42514d34fe92b",
       "version_major": 2,
       "version_minor": 0
      },
      "text/plain": [
       "  0%|          | 0/1470 [00:00<?, ?it/s]"
      ]
     },
     "metadata": {},
     "output_type": "display_data"
    },
    {
     "name": "stdout",
     "output_type": "stream",
     "text": [
      "     num_frames      IDF1       IDP       IDR      Rcll      Prcn     GT  MT  PT  ML    FP     FN  IDsw   FM      MOTA     MOTP\n",
      "acc        1470  0.734222  0.829783  0.658398  0.705823  0.889553  62646  25  42  11  5490  18429    87  457  0.616799  0.25659\n"
     ]
    }
   ],
   "source": [
    "motmetrics.motMetricsEnhancedCalculator('./metric_src/label/13/gt.txt','./metric_src/label/13/13.txt')"
   ]
  },
  {
   "cell_type": "code",
   "execution_count": 11,
   "metadata": {},
   "outputs": [
    {
     "data": {
      "application/vnd.jupyter.widget-view+json": {
       "model_id": "5d0c58c0d36e48a3ab90981d1f383153",
       "version_major": 2,
       "version_minor": 0
      },
      "text/plain": [
       "  0%|          | 0/1470 [00:00<?, ?it/s]"
      ]
     },
     "metadata": {},
     "output_type": "display_data"
    },
    {
     "name": "stdout",
     "output_type": "stream",
     "text": [
      "     num_frames      IDF1       IDP       IDR      Rcll      Prcn     GT  MT  PT  ML     FP    FN  IDsw   FM      MOTA      MOTP\n",
      "acc        1470  0.757811  0.731275  0.786346  0.843834  0.784737  56568  37  18   2  13094  8834    95  695  0.610681  0.251256\n"
     ]
    }
   ],
   "source": [
    "motmetrics.motMetricsEnhancedCalculator('./metric_src/label/gt_11.txt','./metric_src/label/11.txt')"
   ]
  },
  {
   "cell_type": "code",
   "execution_count": 10,
   "metadata": {},
   "outputs": [
    {
     "data": {
      "application/vnd.jupyter.widget-view+json": {
       "model_id": "07abeefa18da4ba68b65604359e392d9",
       "version_major": 2,
       "version_minor": 0
      },
      "text/plain": [
       "  0%|          | 0/1470 [00:00<?, ?it/s]"
      ]
     },
     "metadata": {},
     "output_type": "display_data"
    },
    {
     "name": "stdout",
     "output_type": "stream",
     "text": [
      "     num_frames      IDF1       IDP       IDR      Rcll      Prcn     GT  MT  PT  ML     FP    FN  IDsw   FM      MOTA      MOTP\n",
      "acc        1470  0.757811  0.731275  0.786346  0.843834  0.784737  56568  37  18   2  13094  8834    95  695  0.610681  0.251256\n"
     ]
    }
   ],
   "source": [
    "motmetrics.motMetricsEnhancedCalculator('./metric_src/label/sorted_gt_11.txt','./metric_src/label/11.txt')"
   ]
  },
  {
   "cell_type": "code",
   "execution_count": 3,
   "metadata": {},
   "outputs": [
    {
     "data": {
      "application/vnd.jupyter.widget-view+json": {
       "model_id": "139c3db16f0d4406be48e21bd60f974c",
       "version_major": 2,
       "version_minor": 0
      },
      "text/plain": [
       "  0%|          | 0/1470 [00:00<?, ?it/s]"
      ]
     },
     "metadata": {},
     "output_type": "display_data"
    },
    {
     "name": "stdout",
     "output_type": "stream",
     "text": [
      "     num_frames      IDF1       IDP       IDR      Rcll      Prcn     GT  MT  PT  ML     FP    FN  IDsw   FM      MOTA      MOTP\n",
      "acc        1470  0.615279  0.542457  0.710684  0.856456  0.653722  56568  36  19   2  25663  8120   249  886  0.398388  0.253647\n"
     ]
    }
   ],
   "source": [
    "motmetrics.motMetricsEnhancedCalculator('./metric_src/label/gt_11.txt','./metric_src/label/11_oc.txt')"
   ]
  },
  {
   "cell_type": "code",
   "execution_count": 4,
   "metadata": {},
   "outputs": [
    {
     "data": {
      "application/vnd.jupyter.widget-view+json": {
       "model_id": "461cf049f9064cf496d4414e3fed32bb",
       "version_major": 2,
       "version_minor": 0
      },
      "text/plain": [
       "  0%|          | 0/1470 [00:00<?, ?it/s]"
      ]
     },
     "metadata": {},
     "output_type": "display_data"
    },
    {
     "name": "stdout",
     "output_type": "stream",
     "text": [
      "     num_frames      IDF1       IDP      IDR      Rcll      Prcn     GT  MT  PT  ML    FP     FN  IDsw    FM     MOTA      MOTP\n",
      "acc        1470  0.401156  0.407453  0.39505  0.744925  0.768312  39357  62  49   6  8841  10039  1209  2054  0.48957  0.295472\n"
     ]
    }
   ],
   "source": [
    "motmetrics.motMetricsEnhancedCalculator('./metric_src/label/gt.txt','./metric_src/label/12_bot.txt')"
   ]
  }
 ],
 "metadata": {
  "kernelspec": {
   "display_name": "Python 3 (ipykernel)",
   "language": "python",
   "name": "python3"
  },
  "language_info": {
   "codemirror_mode": {
    "name": "ipython",
    "version": 3
   },
   "file_extension": ".py",
   "mimetype": "text/x-python",
   "name": "python",
   "nbconvert_exporter": "python",
   "pygments_lexer": "ipython3",
   "version": "3.0.0"
  }
 },
 "nbformat": 4,
 "nbformat_minor": 5
}
