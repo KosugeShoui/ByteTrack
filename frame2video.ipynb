{
 "cells": [
  {
   "cell_type": "markdown",
   "id": "45baf005-e41c-481b-a614-84c695e37535",
   "metadata": {},
   "source": [
    "## 追尾済みフレームから動画へ変換"
   ]
  },
  {
   "cell_type": "code",
   "execution_count": 1,
   "id": "2dc42fa5-b39d-40f4-aa40-e93cbaebf50c",
   "metadata": {},
   "outputs": [],
   "source": [
    "import os\n",
    "import cv2\n",
    "from natsort import natsorted\n",
    "from tqdm.notebook import tqdm"
   ]
  },
  {
   "cell_type": "code",
   "execution_count": 2,
   "id": "04ead1d8-d7c7-466d-963b-5dc1e8dfa8ac",
   "metadata": {},
   "outputs": [
    {
     "name": "stdout",
     "output_type": "stream",
     "text": [
      "/work/kosuge/M1/mot_bytetrack\n"
     ]
    }
   ],
   "source": [
    "path = os.getcwd()\n",
    "print(path)"
   ]
  },
  {
   "cell_type": "code",
   "execution_count": 3,
   "id": "0637c117-2eae-4bbe-8a86-a7aef4afa75f",
   "metadata": {},
   "outputs": [
    {
     "name": "stdout",
     "output_type": "stream",
     "text": [
      "['tracking_KITTI_0000', 'tracking_KITTI_0001', 'tracking_KITTI_0002', 'tracking_KITTI_0003', 'tracking_KITTI_0004', 'tracking_KITTI_0005', 'tracking_KITTI_0006', 'tracking_KITTI_0007', 'tracking_KITTI_0008', 'tracking_KITTI_0009', 'tracking_KITTI_0010', 'tracking_KITTI_0011', 'tracking_KITTI_0012', 'tracking_KITTI_0013', 'tracking_KITTI_0014', 'tracking_KITTI_0015', 'tracking_KITTI_0016', 'tracking_KITTI_0017', 'tracking_KITTI_0018', 'tracking_KITTI_0019', 'tracking_KITTI_0020']\n",
      "21\n"
     ]
    }
   ],
   "source": [
    "#追尾済みの動画のディレクトリ\n",
    "#root_dir = 'ultralytics_normal/runs/'\n",
    "root_dir = 'ultralytics_normal/runs/tracking_results_1121_yolov8_m'\n",
    "#root_dir = '../mot_datasets/MOT20'\n",
    "#root_dir = '../mot_datasets/KITTI/training/image_02'\n",
    "root_list = natsorted(os.listdir(root_dir))\n",
    "#root_list = root_list[0:]\n",
    "print(root_list)\n",
    "print(len(root_list))"
   ]
  },
  {
   "cell_type": "code",
   "execution_count": 7,
   "id": "a45402af-6932-4084-ad57-3a9567c1df23",
   "metadata": {},
   "outputs": [
    {
     "name": "stdout",
     "output_type": "stream",
     "text": [
      "-----------movie out started------------\n"
     ]
    },
    {
     "data": {
      "application/vnd.jupyter.widget-view+json": {
       "model_id": "333c38b2014d43109ffc884f895010e3",
       "version_major": 2,
       "version_minor": 0
      },
      "text/plain": [
       "  0%|          | 0/21 [00:00<?, ?it/s]"
      ]
     },
     "metadata": {},
     "output_type": "display_data"
    },
    {
     "name": "stdout",
     "output_type": "stream",
     "text": [
      "KITTI Name =  tracking_KITTI_0000\n",
      "frame num =  154\n"
     ]
    },
    {
     "data": {
      "application/vnd.jupyter.widget-view+json": {
       "model_id": "2f943f487b854c9c9cbae940012d63ab",
       "version_major": 2,
       "version_minor": 0
      },
      "text/plain": [
       "  0%|          | 0/154 [00:00<?, ?it/s]"
      ]
     },
     "metadata": {},
     "output_type": "display_data"
    },
    {
     "name": "stdout",
     "output_type": "stream",
     "text": [
      "KITTI Name =  tracking_KITTI_0001\n",
      "frame num =  447\n"
     ]
    },
    {
     "data": {
      "application/vnd.jupyter.widget-view+json": {
       "model_id": "4ed367accd4748ac9d6b57c109e495b8",
       "version_major": 2,
       "version_minor": 0
      },
      "text/plain": [
       "  0%|          | 0/447 [00:00<?, ?it/s]"
      ]
     },
     "metadata": {},
     "output_type": "display_data"
    },
    {
     "name": "stdout",
     "output_type": "stream",
     "text": [
      "KITTI Name =  tracking_KITTI_0002\n",
      "frame num =  233\n"
     ]
    },
    {
     "data": {
      "application/vnd.jupyter.widget-view+json": {
       "model_id": "33b198fa385249208040b10b1df41f42",
       "version_major": 2,
       "version_minor": 0
      },
      "text/plain": [
       "  0%|          | 0/233 [00:00<?, ?it/s]"
      ]
     },
     "metadata": {},
     "output_type": "display_data"
    },
    {
     "name": "stdout",
     "output_type": "stream",
     "text": [
      "KITTI Name =  tracking_KITTI_0003\n",
      "frame num =  144\n"
     ]
    },
    {
     "data": {
      "application/vnd.jupyter.widget-view+json": {
       "model_id": "66da16a5b7204d94a5861c74adc332fa",
       "version_major": 2,
       "version_minor": 0
      },
      "text/plain": [
       "  0%|          | 0/144 [00:00<?, ?it/s]"
      ]
     },
     "metadata": {},
     "output_type": "display_data"
    },
    {
     "name": "stdout",
     "output_type": "stream",
     "text": [
      "KITTI Name =  tracking_KITTI_0004\n",
      "frame num =  314\n"
     ]
    },
    {
     "data": {
      "application/vnd.jupyter.widget-view+json": {
       "model_id": "e3bf9e32c90141c18adf8278b8a32b88",
       "version_major": 2,
       "version_minor": 0
      },
      "text/plain": [
       "  0%|          | 0/314 [00:00<?, ?it/s]"
      ]
     },
     "metadata": {},
     "output_type": "display_data"
    },
    {
     "name": "stdout",
     "output_type": "stream",
     "text": [
      "KITTI Name =  tracking_KITTI_0005\n",
      "frame num =  297\n"
     ]
    },
    {
     "data": {
      "application/vnd.jupyter.widget-view+json": {
       "model_id": "3740745e74e44b58b2979d54e3d8a82d",
       "version_major": 2,
       "version_minor": 0
      },
      "text/plain": [
       "  0%|          | 0/297 [00:00<?, ?it/s]"
      ]
     },
     "metadata": {},
     "output_type": "display_data"
    },
    {
     "name": "stdout",
     "output_type": "stream",
     "text": [
      "KITTI Name =  tracking_KITTI_0006\n",
      "frame num =  270\n"
     ]
    },
    {
     "data": {
      "application/vnd.jupyter.widget-view+json": {
       "model_id": "ee424c1c70414f00b551e5fdfdae47e0",
       "version_major": 2,
       "version_minor": 0
      },
      "text/plain": [
       "  0%|          | 0/270 [00:00<?, ?it/s]"
      ]
     },
     "metadata": {},
     "output_type": "display_data"
    },
    {
     "name": "stdout",
     "output_type": "stream",
     "text": [
      "KITTI Name =  tracking_KITTI_0007\n",
      "frame num =  800\n"
     ]
    },
    {
     "data": {
      "application/vnd.jupyter.widget-view+json": {
       "model_id": "05b7372c405b436aba0c54a933cb3426",
       "version_major": 2,
       "version_minor": 0
      },
      "text/plain": [
       "  0%|          | 0/800 [00:00<?, ?it/s]"
      ]
     },
     "metadata": {},
     "output_type": "display_data"
    },
    {
     "name": "stdout",
     "output_type": "stream",
     "text": [
      "KITTI Name =  tracking_KITTI_0008\n",
      "frame num =  390\n"
     ]
    },
    {
     "data": {
      "application/vnd.jupyter.widget-view+json": {
       "model_id": "e827bf06a5b64d8f9a6f287a1ff44551",
       "version_major": 2,
       "version_minor": 0
      },
      "text/plain": [
       "  0%|          | 0/390 [00:00<?, ?it/s]"
      ]
     },
     "metadata": {},
     "output_type": "display_data"
    },
    {
     "name": "stdout",
     "output_type": "stream",
     "text": [
      "KITTI Name =  tracking_KITTI_0009\n",
      "frame num =  803\n"
     ]
    },
    {
     "data": {
      "application/vnd.jupyter.widget-view+json": {
       "model_id": "08c76f7016d54ec1a61e9b2a50118f0a",
       "version_major": 2,
       "version_minor": 0
      },
      "text/plain": [
       "  0%|          | 0/803 [00:00<?, ?it/s]"
      ]
     },
     "metadata": {},
     "output_type": "display_data"
    },
    {
     "name": "stdout",
     "output_type": "stream",
     "text": [
      "KITTI Name =  tracking_KITTI_0010\n",
      "frame num =  294\n"
     ]
    },
    {
     "data": {
      "application/vnd.jupyter.widget-view+json": {
       "model_id": "c6d996f7f14f49c0bec1b4de875e94eb",
       "version_major": 2,
       "version_minor": 0
      },
      "text/plain": [
       "  0%|          | 0/294 [00:00<?, ?it/s]"
      ]
     },
     "metadata": {},
     "output_type": "display_data"
    },
    {
     "name": "stdout",
     "output_type": "stream",
     "text": [
      "KITTI Name =  tracking_KITTI_0011\n",
      "frame num =  373\n"
     ]
    },
    {
     "data": {
      "application/vnd.jupyter.widget-view+json": {
       "model_id": "d8085ac43ea74db8950aa7653171e734",
       "version_major": 2,
       "version_minor": 0
      },
      "text/plain": [
       "  0%|          | 0/373 [00:00<?, ?it/s]"
      ]
     },
     "metadata": {},
     "output_type": "display_data"
    },
    {
     "name": "stdout",
     "output_type": "stream",
     "text": [
      "KITTI Name =  tracking_KITTI_0012\n",
      "frame num =  78\n"
     ]
    },
    {
     "data": {
      "application/vnd.jupyter.widget-view+json": {
       "model_id": "4ebb4220d7d34e78b3f5f02240c94505",
       "version_major": 2,
       "version_minor": 0
      },
      "text/plain": [
       "  0%|          | 0/78 [00:00<?, ?it/s]"
      ]
     },
     "metadata": {},
     "output_type": "display_data"
    },
    {
     "name": "stdout",
     "output_type": "stream",
     "text": [
      "KITTI Name =  tracking_KITTI_0013\n",
      "frame num =  340\n"
     ]
    },
    {
     "data": {
      "application/vnd.jupyter.widget-view+json": {
       "model_id": "5f60352db0684ddf97f4243c9672e49f",
       "version_major": 2,
       "version_minor": 0
      },
      "text/plain": [
       "  0%|          | 0/340 [00:00<?, ?it/s]"
      ]
     },
     "metadata": {},
     "output_type": "display_data"
    },
    {
     "name": "stdout",
     "output_type": "stream",
     "text": [
      "KITTI Name =  tracking_KITTI_0014\n",
      "frame num =  106\n"
     ]
    },
    {
     "data": {
      "application/vnd.jupyter.widget-view+json": {
       "model_id": "bf0da04e92da4c418fc6a402eac998f8",
       "version_major": 2,
       "version_minor": 0
      },
      "text/plain": [
       "  0%|          | 0/106 [00:00<?, ?it/s]"
      ]
     },
     "metadata": {},
     "output_type": "display_data"
    },
    {
     "name": "stdout",
     "output_type": "stream",
     "text": [
      "KITTI Name =  tracking_KITTI_0015\n",
      "frame num =  376\n"
     ]
    },
    {
     "data": {
      "application/vnd.jupyter.widget-view+json": {
       "model_id": "a420f4152b2d411585438f9deccf3b24",
       "version_major": 2,
       "version_minor": 0
      },
      "text/plain": [
       "  0%|          | 0/376 [00:00<?, ?it/s]"
      ]
     },
     "metadata": {},
     "output_type": "display_data"
    },
    {
     "name": "stdout",
     "output_type": "stream",
     "text": [
      "KITTI Name =  tracking_KITTI_0016\n",
      "frame num =  209\n"
     ]
    },
    {
     "data": {
      "application/vnd.jupyter.widget-view+json": {
       "model_id": "7e708d8423dd4eed942f455da4512360",
       "version_major": 2,
       "version_minor": 0
      },
      "text/plain": [
       "  0%|          | 0/209 [00:00<?, ?it/s]"
      ]
     },
     "metadata": {},
     "output_type": "display_data"
    },
    {
     "name": "stdout",
     "output_type": "stream",
     "text": [
      "KITTI Name =  tracking_KITTI_0017\n",
      "frame num =  145\n"
     ]
    },
    {
     "data": {
      "application/vnd.jupyter.widget-view+json": {
       "model_id": "b7af6fc9cfbb499aa5c5670131457e37",
       "version_major": 2,
       "version_minor": 0
      },
      "text/plain": [
       "  0%|          | 0/145 [00:00<?, ?it/s]"
      ]
     },
     "metadata": {},
     "output_type": "display_data"
    },
    {
     "name": "stdout",
     "output_type": "stream",
     "text": [
      "KITTI Name =  tracking_KITTI_0018\n",
      "frame num =  339\n"
     ]
    },
    {
     "data": {
      "application/vnd.jupyter.widget-view+json": {
       "model_id": "0ba02b6909c54577b13ed9bf18c95814",
       "version_major": 2,
       "version_minor": 0
      },
      "text/plain": [
       "  0%|          | 0/339 [00:00<?, ?it/s]"
      ]
     },
     "metadata": {},
     "output_type": "display_data"
    },
    {
     "name": "stdout",
     "output_type": "stream",
     "text": [
      "KITTI Name =  tracking_KITTI_0019\n",
      "frame num =  1059\n"
     ]
    },
    {
     "data": {
      "application/vnd.jupyter.widget-view+json": {
       "model_id": "e61ed770601a488c8094b6aad64af09d",
       "version_major": 2,
       "version_minor": 0
      },
      "text/plain": [
       "  0%|          | 0/1059 [00:00<?, ?it/s]"
      ]
     },
     "metadata": {},
     "output_type": "display_data"
    },
    {
     "name": "stdout",
     "output_type": "stream",
     "text": [
      "KITTI Name =  tracking_KITTI_0020\n",
      "frame num =  837\n"
     ]
    },
    {
     "data": {
      "application/vnd.jupyter.widget-view+json": {
       "model_id": "f5d224a7e67b4ff0a1bdcdfd791cbc93",
       "version_major": 2,
       "version_minor": 0
      },
      "text/plain": [
       "  0%|          | 0/837 [00:00<?, ?it/s]"
      ]
     },
     "metadata": {},
     "output_type": "display_data"
    },
    {
     "name": "stdout",
     "output_type": "stream",
     "text": [
      "-----------movie out finished------------\n"
     ]
    }
   ],
   "source": [
    "# 画像ファイルが保存されているディレクトリ\n",
    "#track_name = 'tracking_dancetrack0004'\n",
    "\n",
    "print('-----------movie out started------------')\n",
    "#インデックスで指定\n",
    "\n",
    "for track_name in tqdm(root_list):\n",
    "    #track_name = root_list[1]\n",
    "    print('KITTI Name = ', track_name)\n",
    "    #image_folder = os.path.join(root_dir,track_name)\n",
    "    image_folder = os.path.join(root_dir,track_name)\n",
    "    #video_name = '../mot_datasets/MOT20_movies/' + track_name + '.avi'\n",
    "    #video_name = 'ultralytics/mot17_result/' + track_name + '.avi'\n",
    "    #video_name = 'ultralytics/visem_result/' + track_name + '.avi'\n",
    "    #video_name = 'ultralytics_normal/mot17_result_yolox/' + track_name + '.avi'\n",
    "    video_name = 'ultralytics_normal/'+ 'KITTI_tracked_movies/'+ track_name + '.avi'\n",
    "    os.makedirs('ultralytics_normal/'+ 'KITTI_tracked_movies',exist_ok = True)\n",
    "\n",
    "    # 画像ファイルの拡張子（一般的には.jpgや.png）\n",
    "    image_extension1 = 'png'\n",
    "    image_extension2 = 'jpg'\n",
    "\n",
    "    images = natsorted([img for img in os.listdir(image_folder) if img.endswith(image_extension1) or img.endswith(image_extension2)])\n",
    "    print('frame num = ',len(images))\n",
    "    frame = cv2.imread(os.path.join(image_folder, images[0]))\n",
    "    frame_height, frame_width, layers = frame.shape\n",
    "\n",
    "    # 動画の設定\n",
    "    #KITTI_fps = 10\n",
    "    fps = 10\n",
    "    fourcc = cv2.VideoWriter_fourcc(*'XVID')\n",
    "    out = cv2.VideoWriter(video_name, fourcc, fps, (frame_width, frame_height))\n",
    "\n",
    "    for image in tqdm(images):\n",
    "        img = cv2.imread(os.path.join(image_folder, image))\n",
    "        out.write(img)\n",
    "\n",
    "    #動画を保存\n",
    "    out.release()\n",
    "\n",
    "print('-----------movie out finished------------')\n",
    "\n"
   ]
  }
 ],
 "metadata": {
  "kernelspec": {
   "display_name": "Python 3 (ipykernel)",
   "language": "python",
   "name": "python3"
  },
  "language_info": {
   "codemirror_mode": {
    "name": "ipython",
    "version": 3
   },
   "file_extension": ".py",
   "mimetype": "text/x-python",
   "name": "python",
   "nbconvert_exporter": "python",
   "pygments_lexer": "ipython3",
   "version": "3.8.10"
  }
 },
 "nbformat": 4,
 "nbformat_minor": 5
}
